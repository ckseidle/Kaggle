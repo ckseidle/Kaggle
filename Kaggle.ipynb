{
 "cells": [
  {
   "cell_type": "code",
   "execution_count": null,
   "metadata": {},
   "outputs": [],
   "source": [
    "import os\n",
    "import shutil\n",
    "import warnings\n",
    "warnings.filterwarnings('ignore')\n",
    "\n",
    "import cv2\n",
    "import matplotlib.pyplot as plt\n",
    "\n",
    "import pandas as pd\n",
    "import numpy as np\n",
    "from numpy.random import seed\n",
    "seed(123)\n",
    "\n",
    "from sklearn.utils import shuffle\n",
    "from sklearn.model_selection import train_test_split\n",
    "\n",
    "import tensorflow as tf\n",
    "from tensorflow import keras\n",
    "from tensorflow.keras.preprocessing.image import ImageDataGenerator\n",
    "from tensorflow.keras.layers import Conv2D, MaxPooling2D, Dense, Dropout, Flatten, Activation\n",
    "from tensorflow.keras.models import Sequential\n",
    "from tensorflow.keras.callbacks import EarlyStopping, ReduceLROnPlateau, ModelCheckpoint\n",
    "from tensorflow.keras.optimizers import Adam\n",
    "tf.random.set_seed(123)"
   ]
  },
  {
   "cell_type": "code",
   "execution_count": null,
   "metadata": {},
   "outputs": [],
   "source": [
    "os.listdir('../input/histopathologic-cancer-detection')"
   ]
  },
  {
   "cell_type": "code",
   "execution_count": null,
   "metadata": {},
   "outputs": [],
   "source": [
    "print(len(os.listdir('../input/histopathologic-cancer-detection/train')))\n",
    "print(len(os.listdir('../input/histopathologic-cancer-detection/test')))"
   ]
  },
  {
   "cell_type": "code",
   "execution_count": null,
   "metadata": {},
   "outputs": [],
   "source": [
    "df_train = pd.read_csv('../input/histopathologic-cancer-detection/train_labels.csv')\n",
    "df_sample_submission = pd.read_csv('../input/histopathologic-cancer-detection/sample_submission.csv')\n",
    "print(df_train.shape)"
   ]
  },
  {
   "cell_type": "code",
   "execution_count": null,
   "metadata": {},
   "outputs": [],
   "source": [
    "df_train.head()"
   ]
  },
  {
   "cell_type": "code",
   "execution_count": null,
   "metadata": {},
   "outputs": [],
   "source": [
    "plt.imshow(cv2.imread('../input/histopathologic-cancer-detection/train/f38a6374c348f90b587e046aac6079959adf3835.tif'))\n",
    "plt.show()\n",
    "plt.imshow(cv2.imread('../input/histopathologic-cancer-detection/train/c18f2d887b7ae4f6742ee445113fa1aef383ed77.tif'))\n",
    "plt.show()"
   ]
  },
  {
   "cell_type": "code",
   "execution_count": null,
   "metadata": {},
   "outputs": [],
   "source": [
    "df_train['label'].value_counts()"
   ]
  },
  {
   "cell_type": "code",
   "execution_count": null,
   "metadata": {},
   "outputs": [],
   "source": [
    "df0 = df_train[df_train['label']==0].sample(500)\n",
    "df1 = df_train[df_train['label']==1].sample(500)\n",
    "df_data = pd.concat([df0, df1], axis=0).reset_index(drop=True)\n",
    "\n",
    "df_data = shuffle(df_data)\n",
    "\n",
    "\n",
    "df_data['label'].value_counts()"
   ]
  },
  {
   "cell_type": "code",
   "execution_count": null,
   "metadata": {},
   "outputs": [],
   "source": [
    "y = df_data['label']\n",
    "\n",
    "df_train, df_val = train_test_split(df_data, test_size=0.20, stratify=y)\n",
    "\n",
    "print(df_train.shape)\n",
    "print(df_val.shape)"
   ]
  },
  {
   "cell_type": "code",
   "execution_count": null,
   "metadata": {},
   "outputs": [],
   "source": [
    "os.mkdir('base')\n",
    "os.mkdir('base/train')\n",
    "os.mkdir('base/val')\n",
    "os.mkdir('base/train/0')\n",
    "os.mkdir('base/train/1')\n",
    "os.mkdir('base/val/0')\n",
    "os.mkdir('base/val/1')"
   ]
  },
  {
   "cell_type": "code",
   "execution_count": null,
   "metadata": {},
   "outputs": [],
   "source": [
    "for image in list(df_train[df_train['label']==0]['id']):\n",
    "    shutil.copyfile('../input/histopathologic-cancer-detection/train/'+image+'.tif', 'base/train/0/'+image+'.tif')\n",
    "\n",
    "for image in list(df_train[df_train['label']==1]['id']):\n",
    "    shutil.copyfile('../input/histopathologic-cancer-detection/train/'+image+'.tif', 'base/train/1/'+image+'.tif')\n",
    "    \n",
    "for image in list(df_val[df_val['label']==0]['id']):\n",
    "    shutil.copyfile('../input/histopathologic-cancer-detection/train/'+image+'.tif', 'base/val/0/'+image+'.tif')\n",
    "    \n",
    "for image in list(df_val[df_val['label']==1]['id']):\n",
    "    shutil.copyfile('../input/histopathologic-cancer-detection/train/'+image+'.tif', 'base/val/1/'+image+'.tif')"
   ]
  },
  {
   "cell_type": "code",
   "execution_count": null,
   "metadata": {},
   "outputs": [],
   "source": [
    "print(len(os.listdir('base/train/0')))\n",
    "print(len(os.listdir('base/train/1')))\n",
    "print(len(os.listdir('base/val/0')))\n",
    "print(len(os.listdir('base/val/1')))"
   ]
  },
  {
   "cell_type": "code",
   "execution_count": null,
   "metadata": {},
   "outputs": [],
   "source": [
    "# Set up the generators\n",
    "train_path = 'base/train'\n",
    "valid_path = 'base/val'\n",
    "test_path = '../input/histopathologic-cancer-detection/test'\n",
    "\n",
    "num_train_samples = len(df_train)\n",
    "num_val_samples = len(df_val)\n",
    "train_batch_size = 10\n",
    "val_batch_size = 10\n",
    "\n",
    "\n",
    "train_steps = int(np.ceil(num_train_samples // train_batch_size))\n",
    "val_steps = int(np.ceil(num_val_samples // val_batch_size))"
   ]
  },
  {
   "cell_type": "code",
   "execution_count": null,
   "metadata": {},
   "outputs": [],
   "source": [
    "datagen = ImageDataGenerator(rescale=1.0/255)\n",
    "\n",
    "train_gen = datagen.flow_from_directory(train_path,\n",
    "                                        target_size=(96,96),\n",
    "                                        batch_size=train_batch_size,\n",
    "                                        class_mode='categorical')\n",
    "\n",
    "val_gen = datagen.flow_from_directory(valid_path,\n",
    "                                        target_size=(96,96),\n",
    "                                        batch_size=val_batch_size,\n",
    "                                        class_mode='categorical')\n",
    "\n",
    "# Note: shuffle=False causes the test dataset to not be shuffled\n",
    "test_gen = datagen.flow_from_directory('../input/histopathologic-cancer-detection',\n",
    "                                        target_size=(96,96),\n",
    "                                        batch_size=1,\n",
    "                                        classes=['test'],\n",
    "                                        shuffle=False)"
   ]
  },
  {
   "cell_type": "code",
   "execution_count": null,
   "metadata": {},
   "outputs": [],
   "source": [
    "kernel_size = (3,3)\n",
    "pool_size= (2,2)\n",
    "first_filters = 64\n",
    "second_filters = 128\n",
    "third_filters = 256\n",
    "fourth_filters = 512\n",
    "\n",
    "dropout_conv = 0.5\n",
    "dropout_dense = 0.5\n",
    "\n",
    "model = Sequential()\n",
    "model.add(Conv2D(first_filters, kernel_size, activation = 'relu',padding='same', input_shape = (96, 96, 3)))\n",
    "model.add(Conv2D(first_filters, kernel_size, activation = 'relu',padding='same'))\n",
    "model.add(MaxPooling2D(pool_size = pool_size)) \n",
    "\n",
    "model.add(Conv2D(second_filters, kernel_size, activation ='relu',padding='same'))\n",
    "model.add(Conv2D(second_filters, kernel_size, activation ='relu',padding='same'))\n",
    "model.add(MaxPooling2D(pool_size = pool_size))\n",
    "\n",
    "model.add(Conv2D(third_filters, kernel_size, activation ='relu',padding='same'))\n",
    "model.add(Conv2D(third_filters, kernel_size, activation ='relu',padding='same'))\n",
    "model.add(Conv2D(third_filters, kernel_size, activation ='relu',padding='same'))\n",
    "model.add(MaxPooling2D(pool_size = pool_size))\n",
    "\n",
    "model.add(Conv2D(fourth_filters, kernel_size, activation ='relu',padding='same'))\n",
    "model.add(Conv2D(fourth_filters, kernel_size, activation ='relu',padding='same'))\n",
    "model.add(Conv2D(fourth_filters, kernel_size, activation ='relu',padding='same'))\n",
    "\n",
    "model.add(Flatten())\n",
    "model.add(Dense(4096, activation = \"relu\"))\n",
    "model.add(Dropout(dropout_dense))\n",
    "model.add(Dense(4096, activation = \"relu\"))\n",
    "model.add(Dropout(dropout_dense))\n",
    "model.add(Dense(2, activation = \"softmax\"))\n",
    "\n",
    "model.summary()"
   ]
  },
  {
   "cell_type": "code",
   "execution_count": null,
   "metadata": {},
   "outputs": [],
   "source": [
    "model.compile(Adam(learning_rate=0.0001), loss='binary_crossentropy', \n",
    "              metrics=['AUC'])"
   ]
  },
  {
   "cell_type": "code",
   "execution_count": null,
   "metadata": {},
   "outputs": [],
   "source": [
    "print(val_gen.class_indices)"
   ]
  },
  {
   "cell_type": "code",
   "execution_count": null,
   "metadata": {},
   "outputs": [],
   "source": [
    "# filepath = \"model.keras\"\n",
    "# checkpoint = ModelCheckpoint(filepath, monitor='val_accuracy', verbose=1, \n",
    "#                              save_best_only=True, mode='max')\n",
    "\n",
    "# reduce_lr = ReduceLROnPlateau(monitor='val_accuracy', factor=0.5, patience=2, \n",
    "#                                    verbose=1, mode='max', min_lr=0.00001)\n",
    "                              \n",
    "                              \n",
    "# callbacks_list = [checkpoint, reduce_lr]\n",
    "\n",
    "history = model.fit(train_gen, \n",
    "                    validation_data=val_gen,\n",
    "                    epochs=10, verbose=1)\n",
    "# ,\n",
    "#                    callbacks=callbacks_list)"
   ]
  },
  {
   "cell_type": "code",
   "execution_count": null,
   "metadata": {},
   "outputs": [],
   "source": [
    "tr_acc = history.history['AUC']\n",
    "val_acc = history.history['val_AUC']\n",
    "\n",
    "epoc = range(1, len(tr_acc) + 1)\n",
    "\n",
    "plt.plot(epoc, tr_acc, label='Training acc')\n",
    "plt.plot(epoc, val_acc, label='Validation acc')\n",
    "plt.title('Accuracy')\n",
    "plt.legend()\n",
    "plt.show()"
   ]
  },
  {
   "cell_type": "code",
   "execution_count": null,
   "metadata": {},
   "outputs": [],
   "source": [
    "predictions = model.predict(test_gen, verbose=1)"
   ]
  },
  {
   "cell_type": "code",
   "execution_count": null,
   "metadata": {},
   "outputs": [],
   "source": [
    "predictions"
   ]
  },
  {
   "cell_type": "code",
   "execution_count": null,
   "metadata": {},
   "outputs": [],
   "source": [
    "df_preds = pd.DataFrame(predictions, columns=['0', '1'])\n",
    "\n",
    "df_preds.head()"
   ]
  },
  {
   "cell_type": "code",
   "execution_count": null,
   "metadata": {},
   "outputs": [],
   "source": [
    "df_preds[df_preds['1']>0.5]"
   ]
  },
  {
   "cell_type": "code",
   "execution_count": null,
   "metadata": {},
   "outputs": [],
   "source": [
    "df_preds['file_names'] = test_gen.filenames"
   ]
  },
  {
   "cell_type": "code",
   "execution_count": null,
   "metadata": {},
   "outputs": [],
   "source": [
    "df_preds['id'] = df_preds['file_names'].str[5:-4]\n",
    "df_preds[['id','1']].rename(columns={'1':'label'}).to_csv('submission.csv', columns=['id','label'],index=False) "
   ]
  },
  {
   "cell_type": "code",
   "execution_count": null,
   "metadata": {},
   "outputs": [],
   "source": [
    "pd.read_csv('submission.csv')"
   ]
  },
  {
   "cell_type": "code",
   "execution_count": null,
   "metadata": {},
   "outputs": [],
   "source": [
    "shutil.rmtree('base')"
   ]
  }
 ],
 "metadata": {
  "language_info": {
   "name": "python"
  }
 },
 "nbformat": 4,
 "nbformat_minor": 2
}
